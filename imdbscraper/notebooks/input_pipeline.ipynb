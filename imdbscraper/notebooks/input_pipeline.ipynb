{
 "cells": [
  {
   "cell_type": "markdown",
   "metadata": {},
   "source": [
    "# Test du cleaning des inputs"
   ]
  },
  {
   "cell_type": "code",
   "execution_count": 1,
   "metadata": {},
   "outputs": [],
   "source": [
    "import re"
   ]
  },
  {
   "cell_type": "code",
   "execution_count": 2,
   "metadata": {},
   "outputs": [],
   "source": [
    "adapter = {\n",
    "    \"url\": \"https://www.imdb.com//title/tt1475582/?ref_=chttvtp_i_21\",\n",
    "    \"length\": \"2h 22m\",\n",
    "    \"num_imdb_raters\": \"1.4M\",\n",
    "    \"num_wins\": \"44 wins & 38 nominations total\",\n",
    "    \"num_nominations\": \"44 wins & 38 nominations total\",\n",
    "    \"release_date\": \"February 14, 1991 (United States)\",\n",
    "    \"num_seasons\": \"4 seasons\",\n",
    "}"
   ]
  },
  {
   "cell_type": "markdown",
   "metadata": {},
   "source": [
    "## URL"
   ]
  },
  {
   "cell_type": "code",
   "execution_count": 3,
   "metadata": {},
   "outputs": [
    {
     "name": "stdout",
     "output_type": "stream",
     "text": [
      "https://www.imdb.com//title/tt1475582/\n"
     ]
    }
   ],
   "source": [
    "value = adapter.get(\"url\")\n",
    "last_slash_index = value.rfind(\"/\")\n",
    "cleaned_url = value[:last_slash_index + 1]\n",
    "value = cleaned_url\n",
    "print(value)"
   ]
  },
  {
   "cell_type": "markdown",
   "metadata": {},
   "source": [
    "## Length"
   ]
  },
  {
   "cell_type": "code",
   "execution_count": 3,
   "metadata": {},
   "outputs": [
    {
     "name": "stdout",
     "output_type": "stream",
     "text": [
      "142\n"
     ]
    }
   ],
   "source": [
    "value = adapter.get(\"length\")\n",
    "\n",
    "if value:\n",
    "    hours, minutes = map(int, value.replace('h', '').replace('m', '').split())\n",
    "    total_min = hours * 60 + minutes\n",
    "    adapter[\"length\"] = total_min\n",
    "\n",
    "print(value)"
   ]
  },
  {
   "cell_type": "markdown",
   "metadata": {},
   "source": [
    "## Num imdb Raters"
   ]
  },
  {
   "cell_type": "code",
   "execution_count": 9,
   "metadata": {},
   "outputs": [
    {
     "name": "stdout",
     "output_type": "stream",
     "text": [
      "1400000\n"
     ]
    }
   ],
   "source": [
    "value = adapter.get(\"num_imdb_raters\")\n",
    "\n",
    "if value:\n",
    "    if 'K' in value:\n",
    "        value = int(float(value.replace('K', '')) * 1000)\n",
    "    elif 'M' in value:\n",
    "        value = int(float(value.replace('M', '')) * 1000000)\n",
    "    else:\n",
    "        value = int(value)\n",
    "\n",
    "print(value)"
   ]
  },
  {
   "cell_type": "markdown",
   "metadata": {},
   "source": [
    "## Num wins and Num nominations"
   ]
  },
  {
   "cell_type": "code",
   "execution_count": 12,
   "metadata": {},
   "outputs": [
    {
     "name": "stdout",
     "output_type": "stream",
     "text": [
      "Number of wins: 44\n",
      "Number of nominations: 38\n"
     ]
    }
   ],
   "source": [
    "value = adapter.get(\"num_wins\")\n",
    "\n",
    "if value:\n",
    "    matches = re.findall(r'(\\d+)\\s+wins?\\s+&\\s+(\\d+)\\s+nominations?\\s+total', value)\n",
    "    if matches:\n",
    "        num_wins, num_nominations = int(matches[0][0]), int(matches[0][1])\n",
    "    else: \n",
    "        num_wins, num_nominations = None, None\n",
    "\n",
    "print(\"Number of wins:\", num_wins)\n",
    "print(\"Number of nominations:\", num_nominations)"
   ]
  },
  {
   "cell_type": "markdown",
   "metadata": {},
   "source": [
    "## Release date"
   ]
  },
  {
   "cell_type": "code",
   "execution_count": 14,
   "metadata": {},
   "outputs": [
    {
     "name": "stdout",
     "output_type": "stream",
     "text": [
      "Clean release date: February 14, 1991\n"
     ]
    }
   ],
   "source": [
    "value = adapter.get(\"release_date\")\n",
    "\n",
    "value = re.sub(r'\\s*\\(.*\\)', '', value)\n",
    "\n",
    "print(\"Clean release date:\", value)"
   ]
  },
  {
   "cell_type": "markdown",
   "metadata": {},
   "source": [
    "## Num seasons"
   ]
  },
  {
   "cell_type": "code",
   "execution_count": 3,
   "metadata": {},
   "outputs": [
    {
     "name": "stdout",
     "output_type": "stream",
     "text": [
      "4\n"
     ]
    }
   ],
   "source": [
    "value = adapter.get(\"num_seasons\")\n",
    "\n",
    "if value:\n",
    "    matches = re.match(r'^(\\d+)\\s+seasons?$', value.strip())\n",
    "    if matches:\n",
    "        value = int(matches.group(1))\n",
    "\n",
    "print(value)"
   ]
  }
 ],
 "metadata": {
  "kernelspec": {
   "display_name": ".venv",
   "language": "python",
   "name": "python3"
  },
  "language_info": {
   "codemirror_mode": {
    "name": "ipython",
    "version": 3
   },
   "file_extension": ".py",
   "mimetype": "text/x-python",
   "name": "python",
   "nbconvert_exporter": "python",
   "pygments_lexer": "ipython3",
   "version": "3.10.12"
  }
 },
 "nbformat": 4,
 "nbformat_minor": 2
}
